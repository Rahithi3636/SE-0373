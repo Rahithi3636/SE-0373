{
  "nbformat": 4,
  "nbformat_minor": 0,
  "metadata": {
    "colab": {
      "provenance": [],
      "authorship_tag": "ABX9TyNMD5BsEnkpsLpXa+OZhQ8e",
      "include_colab_link": true
    },
    "kernelspec": {
      "name": "python3",
      "display_name": "Python 3"
    },
    "language_info": {
      "name": "python"
    }
  },
  "cells": [
    {
      "cell_type": "markdown",
      "metadata": {
        "id": "view-in-github",
        "colab_type": "text"
      },
      "source": [
        "<a href=\"https://colab.research.google.com/github/Rahithi3636/SE-0373/blob/main/Untitled4.ipynb\" target=\"_parent\"><img src=\"https://colab.research.google.com/assets/colab-badge.svg\" alt=\"Open In Colab\"/></a>"
      ]
    },
    {
      "cell_type": "code",
      "source": [
        "import math\n",
        "import matplotlib.pyplot as plt\n",
        "\n",
        "# Define the solve_quadratic function\n",
        "def solve_quadratic(a, b, c):\n",
        "    \"\"\"\n",
        "    Solves a quadratic equation of the form ax^2 + bx + c = 0\n",
        "    using the quadratic formula.\n",
        "    \"\"\"\n",
        "    # Calculate the discriminant\n",
        "    discriminant = (b**2) - 4*(a*c)\n",
        "\n",
        "    # Check if the discriminant is negative (no real solutions)\n",
        "    if discriminant < 0:\n",
        "        return \"No real solutions\"\n",
        "    elif discriminant == 0:\n",
        "        # One real solution\n",
        "        x = (-b) / (2*a)\n",
        "        return x\n",
        "    else:\n",
        "        # Two real solutions\n",
        "        x1 = (-b + math.sqrt(discriminant)) / (2*a)\n",
        "        x2 = (-b - math.sqrt(discriminant)) / (2*a)\n",
        "        return x1, x2\n",
        "\n",
        "# Plotting the quadratic function for visualization\n",
        "def plot_quadratic(a, b, c):\n",
        "    x = list(range(-10, 11))  # Sample x values\n",
        "    y = [a*xi**2 + b*xi + c for xi in x]\n",
        "    plt.plot(x, y)\n",
        "    plt.xlabel(\"x\")\n",
        "    plt.ylabel(\"y\")\n",
        "    plt.title(f\"Quadratic function: {a}x^2 + {b}x + {c}\")\n",
        "    plt.grid(True)\n",
        "    plt.axhline(y=0, color='r', linestyle='-')  # Add horizontal line at y=0\n",
        "    plt.show()\n",
        "\n",
        "\n",
        "# Stage 1: Hard-coding variables\n",
        "print(\"Stage 1: Hard-coding variables\")\n",
        "a, b, c = 1, -3, 2\n",
        "solutions = solve_quadratic(a, b, c)\n",
        "print(f\"Solutions for a={a}, b={b}, c={c}: {solutions}\")\n",
        "plot_quadratic(a,b,c)\n",
        "\n",
        "\n",
        "# Stage 2: Keyboard input\n",
        "print(\"\\nStage 2: Keyboard Input\")\n",
        "a = float(input(\"Enter coefficient a: \"))\n",
        "b = float(input(\"Enter coefficient b: \"))\n",
        "c = float(input(\"Enter coefficient c: \"))\n",
        "\n",
        "solutions = solve_quadratic(a, b, c)\n",
        "print(f\"Solutions for a={a}, b={b}, c={c}: {solutions}\")\n",
        "plot_quadratic(a,b,c)\n",
        "\n",
        "# Stage 3: Read from a file for a single set of inputs\n",
        "# ... (Existing code)\n",
        "plot_quadratic(a, b, c)\n",
        "\n",
        "# Stage 4: Read from a file for multiple sets of inputs\n",
        "# ... (Existing code)\n",
        "#plot_quadratic(a, b, c) # Plotting multiple times inside loop can clutter the graph\n",
        "\n",
        "# Example \"input_multiple.txt\" content:\n",
        "# 1 -3 2\n",
        "# 2 4 2\n",
        "# 1 2 1"
      ],
      "metadata": {
        "id": "-wiJ_r_NdjNe"
      },
      "execution_count": null,
      "outputs": []
    }
  ]
}